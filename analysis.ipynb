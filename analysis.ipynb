{
 "cells": [
  {
   "cell_type": "code",
   "execution_count": 3,
   "metadata": {},
   "outputs": [],
   "source": [
    "# from tqdm import tqdm\n",
    "# import torch.nn as nn\n",
    "\n",
    "# from utils.config import *\n",
    "# from models.TRADE import *\n",
    "EXPERIMENT_DOMAINS = [\"hotel\", \"train\", \"restaurant\", \"attraction\", \"taxi\"]"
   ]
  },
  {
   "cell_type": "code",
   "execution_count": 7,
   "metadata": {},
   "outputs": [],
   "source": [
    "from tqdm import tqdm\n",
    "import torch.nn as nn"
   ]
  },
  {
   "cell_type": "code",
   "execution_count": 8,
   "metadata": {},
   "outputs": [
    {
     "name": "stderr",
     "output_type": "stream",
     "text": [
      "usage: ipykernel_launcher.py [-h] [-ds DATASET] [-t TASK] [-path PATH]\n",
      "                             [-sample SAMPLE] [-patience PATIENCE]\n",
      "                             [-es EARLYSTOP] [-all_vocab ALL_VOCAB]\n",
      "                             [-imbsamp IMBALANCE_SAMPLER]\n",
      "                             [-data_ratio DATA_RATIO] [-um UNK_MASK]\n",
      "                             [-bsz BATCH] [-rundev RUN_DEV_TESTING]\n",
      "                             [-viz VIZUALIZATION] [-gs GENSAMPLE]\n",
      "                             [-evalp EVALP] [-an ADDNAME] [-eb EVAL_BATCH]\n",
      "                             [-gate USE_GATE] [-le LOAD_EMBEDDING]\n",
      "                             [-femb FIX_EMBEDDING] [-paral PARALLEL_DECODE]\n",
      "                             [-dec DECODER] [-hdd HIDDEN] [-lr LEARN]\n",
      "                             [-dr DROP] [-lm LIMIT] [-clip CLIP]\n",
      "                             [-tfr TEACHER_FORCING_RATIO] [-l_ewc LAMBDA_EWC]\n",
      "                             [-fisher_sample FISHER_SAMPLE] [--all_model]\n",
      "                             [--domain_as_task]\n",
      "                             [--run_except_4d RUN_EXCEPT_4D] [--strict_domain]\n",
      "                             [-exceptd EXCEPT_DOMAIN] [-onlyd ONLY_DOMAIN]\n",
      "                             [--seed SEED] [--log_dir LOG_DIR]\n",
      "                             [--delete_ok DELETE_OK] [--bert_model BERT_MODEL]\n",
      "                             [--do_lower_case DO_LOWER_CASE]\n",
      "                             [--num_bert_layers NUM_BERT_LAYERS]\n",
      "                             [--encoder {RNN,BERT}]\n",
      "ipykernel_launcher.py: error: ambiguous option: -f could match -femb, -fisher_sample\n"
     ]
    },
    {
     "ename": "SystemExit",
     "evalue": "2",
     "output_type": "error",
     "traceback": [
      "An exception has occurred, use %tb to see the full traceback.\n",
      "\u001b[0;31mSystemExit\u001b[0m\u001b[0;31m:\u001b[0m 2\n"
     ]
    }
   ],
   "source": [
    "import utils.config"
   ]
  }
 ],
 "metadata": {
  "kernelspec": {
   "display_name": "Python 3",
   "language": "python",
   "name": "python3"
  },
  "language_info": {
   "codemirror_mode": {
    "name": "ipython",
    "version": 3
   },
   "file_extension": ".py",
   "mimetype": "text/x-python",
   "name": "python",
   "nbconvert_exporter": "python",
   "pygments_lexer": "ipython3",
   "version": "3.7.4"
  }
 },
 "nbformat": 4,
 "nbformat_minor": 2
}
