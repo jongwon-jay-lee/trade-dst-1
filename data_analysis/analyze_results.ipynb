{
 "cells": [
  {
   "cell_type": "code",
   "execution_count": 4,
   "metadata": {},
   "outputs": [],
   "source": [
    "import json\n",
    "import importlib  \n",
    "import os\n",
    "import matplotlib.pyplot as plt\n",
    "os.chdir(os.path.join('.', '..'))\n",
    "import utils\n",
    "import analysis_utils\n",
    "import pandas as pd\n",
    "import numpy as np\n",
    "import re\n",
    "analyze_data = importlib.import_module(\"analyze-data\")\n",
    "\n",
    "usr = os.path.expanduser('~')\n",
    "\n",
    "def experiment_results_frame(input_file):\n",
    "    output_file = os.path.join(experiment_path(experiment), \"inference_turn_info.csv\")\n",
    "    baseline_test_set = analysis_utils.read_json(input_file)\n",
    "    frame = analyze_data.generate_TRADE_turn_frame(baseline_test_set)\n",
    "    return frame\n",
    "\n",
    "def experiment_path(experiment):\n",
    "    return os.path.join(usr,''.join((\"misc_trade/results/\", experiment)))\n",
    "\n",
    "dom_list = [\"hotel\", \"taxi\", \"train\", \"restaurant\", \"attraction\"]\n",
    "\n",
    "split = \"dev\" \n",
    "df = analyze_data.dials_as_frame(split, dom_list)\n",
    "\n",
    "experiment = \"baseline21/full\"\n",
    "input_file = os.path.join(experiment_path(experiment), ''.join((\"prediction_TRADE_\".split,\".json\")))    \n",
    "df_pred = experiment_results_frame(input_file)"
   ]
  },
  {
   "cell_type": "code",
   "execution_count": 5,
   "metadata": {},
   "outputs": [],
   "source": [
    "experiment = \"baseline21/full\"\n",
    "input_file = os.path.join(experiment_path(experiment), ''.join((\"prediction_TRADE_\".split,\".json\")))    \n",
    "df_pred = experiment_results_frame(input_file)"
   ]
  },
  {
   "cell_type": "code",
   "execution_count": null,
   "metadata": {},
   "outputs": [],
   "source": [
    "\n",
    "plot_error_histograms(df_pred, experiment)\n",
    "plot_empty_beliefs(df_pred, experiment)"
   ]
  },
  {
   "cell_type": "code",
   "execution_count": null,
   "metadata": {},
   "outputs": [],
   "source": [
    "import numpy as np\n",
    "import json\n",
    "import os\n",
    "import re\n",
    "import pandas as pd\n",
    "from analysis_utils import *\n",
    "import matplotlib.pyplot as plt\n",
    "usr = os.path.expanduser('~')\n",
    "import importlib  \n",
    "analyze_data = importlib.import_module(\"analyze-data\")\n",
    "    \n",
    "max_turn_len = 17\n",
    "all_slots = read_csv(os.path.join(usr,\"data/trade/all_slots.txt\"))\n",
    "\n",
    "experiments = [\"baseline\", \"except-attraction\", \"except-hotel\", \"except-taxi\", \"except-train\", \n",
    "              \"only-attraction\", \"only-hotel\", \"only-taxi\", \"only-train\"]\n",
    "\n",
    "def experiment_results_frame(input_file):\n",
    "    output_file = os.path.join(experiment_path(experiment), \"inference_turn_info.csv\")\n",
    "    baseline_test_set = read_json(input_file)\n",
    "    frame = generate_turn_frame(baseline_test_set)\n",
    "    return frame"
   ]
  },
  {
   "cell_type": "code",
   "execution_count": null,
   "metadata": {},
   "outputs": [],
   "source": [
    "for experiment in [\"baseline21/full\"]:\n",
    "    input_file = os.path.join(experiment_path(experiment), \"prediction_TRADE_dev.json\")    \n",
    "    df = experiment_results_frame(input_file)\n",
    "    plot_error_histograms(df, experiment)\n",
    "    plot_empty_beliefs(df, experiment)\n",
    "#df.to_csv(os.path.join(usr, output_file))"
   ]
  },
  {
   "cell_type": "code",
   "execution_count": null,
   "metadata": {},
   "outputs": [],
   "source": [
    "#df.head()\n",
    "#df.pred_full_belief"
   ]
  },
  {
   "cell_type": "markdown",
   "metadata": {},
   "source": [
    "## Plot the number of examples with a particular length"
   ]
  },
  {
   "cell_type": "code",
   "execution_count": null,
   "metadata": {},
   "outputs": [],
   "source": [
    "k = df[[\"dialogue\", \"turn\"]]\n",
    "k.turn = k.turn.astype(int)\n",
    "dialogue_lengths = k.groupby(\"dialogue\").max().values.astype(int)\n",
    "sample_lengths = df[\"turn\"].values.astype(int)\n",
    "\n",
    "max_turn_len = max(df[\"turn\"].values.astype(int))\n",
    "plt.hist(sample_lengths, alpha=0.5, label='sample lengths', histtype='stepfilled')\n",
    "plt.hist(dialogue_lengths, alpha=0.5, label='dialogue lengths', histtype='stepfilled')\n",
    "plt.xticks(list(range(max_turn_len)))\n",
    "plt.legend(loc='upper right')\n",
    "plt.title('Histogram of the number of turns in samples, dialogues')\n",
    "l = plt.plot()"
   ]
  },
  {
   "cell_type": "markdown",
   "metadata": {},
   "source": [
    "## Plot the percentage of samples correct at turn-level\n",
    "If the correct labels are [A, B, C, D, E] and predicted labels are [A, B, C, F, G, H], then fraction of correct samples is 0.6 ([True, True, True, False, False])"
   ]
  },
  {
   "cell_type": "code",
   "execution_count": null,
   "metadata": {},
   "outputs": [],
   "source": [
    "left = df[[\"turn\", \"full_correct\"]].astype(int).groupby(\"turn\").sum()\n",
    "left[\"total\"] = df[[\"turn\", \"full_correct\"]].astype(int).groupby(\"turn\").count().values"
   ]
  },
  {
   "cell_type": "code",
   "execution_count": null,
   "metadata": {},
   "outputs": [],
   "source": [
    "left"
   ]
  },
  {
   "cell_type": "code",
   "execution_count": null,
   "metadata": {},
   "outputs": [],
   "source": [
    "plt.plot(df[[\"turn\", \"full_correct\"]].astype(int).groupby(\"turn\").mean())\n",
    "plt.show()"
   ]
  },
  {
   "cell_type": "code",
   "execution_count": null,
   "metadata": {},
   "outputs": [],
   "source": [
    "a = df[[\"turn\", \"full_correct\"]].astype(int).groupby(\"turn\").mean()\n",
    "a[\"n_examples\"] = df[[\"turn\", \"full_correct\"]].astype(int).groupby(\"turn\").size()"
   ]
  },
  {
   "cell_type": "code",
   "execution_count": null,
   "metadata": {},
   "outputs": [],
   "source": [
    "a[\"error\"] = a[\"full_correct\"].apply(lambda x: 1-x)"
   ]
  },
  {
   "cell_type": "code",
   "execution_count": null,
   "metadata": {},
   "outputs": [],
   "source": [
    "a[\"error_weighed\"] = a[\"error\"]*a[\"n_examples\"]"
   ]
  },
  {
   "cell_type": "code",
   "execution_count": null,
   "metadata": {},
   "outputs": [],
   "source": [
    "a[\"turn\"] = a.index"
   ]
  },
  {
   "cell_type": "code",
   "execution_count": null,
   "metadata": {},
   "outputs": [],
   "source": [
    "plt.plot(a[[\"turn\", \"error_weighed\"]].astype(int).groupby(\"turn\").mean())\n",
    "plt.show()"
   ]
  },
  {
   "cell_type": "code",
   "execution_count": null,
   "metadata": {},
   "outputs": [],
   "source": [
    "a[\"error\"].values"
   ]
  },
  {
   "cell_type": "markdown",
   "metadata": {},
   "source": [
    "## Accuracy vs number of slots i the last turn"
   ]
  },
  {
   "cell_type": "code",
   "execution_count": null,
   "metadata": {},
   "outputs": [],
   "source": [
    "df[[\"turn\", \"full_correct\", \"true_full_belief\"]].head()"
   ]
  },
  {
   "cell_type": "code",
   "execution_count": null,
   "metadata": {},
   "outputs": [],
   "source": [
    "df[\"n_slots_in_step\"] = df[\"true_step_belief\"].apply(len)\n",
    "df[\"n_accumulative_slots\"] = df[\"true_full_belief\"].apply(len)-df[\"n_slots_in_step\"]"
   ]
  },
  {
   "cell_type": "code",
   "execution_count": null,
   "metadata": {},
   "outputs": [],
   "source": [
    "a = df[[\"n_slots_in_step\", \"n_accumulative_slots\", \"full_correct\"]].astype(int)\n",
    "print(a.head())\n",
    "error = a.astype(int).groupby([\"n_accumulative_slots\",\"n_slots_in_step\"]).mean().apply(lambda x: 1-x)\n",
    "freq = a.astype(int).groupby([\"n_accumulative_slots\", \"n_slots_in_step\"]).size()\n",
    "weighted_errors = error.values.reshape(-1)*freq.values.reshape(-1)"
   ]
  },
  {
   "cell_type": "code",
   "execution_count": null,
   "metadata": {},
   "outputs": [],
   "source": [
    "error[\"freq\"] = freq\n",
    "error[\"error\"] = error[\"full_correct\"]\n",
    "del error[\"full_correct\"]\n",
    "error[\"num_errors\"] = weighted_errors"
   ]
  },
  {
   "cell_type": "code",
   "execution_count": null,
   "metadata": {},
   "outputs": [],
   "source": [
    "error"
   ]
  },
  {
   "cell_type": "code",
   "execution_count": null,
   "metadata": {},
   "outputs": [],
   "source": [
    "error_number = error.groupby(\"n_accumulative_slots\").sum()[\"num_errors\"].sum()\n",
    "plt.plot(error.groupby(\"n_accumulative_slots\").sum()[\"num_errors\"]/error_number)"
   ]
  },
  {
   "cell_type": "code",
   "execution_count": null,
   "metadata": {},
   "outputs": [],
   "source": [
    "acc_vs_num_past_slots = df[[\"n_slots_in_step\", \"full_correct\"]].astype(int).groupby(\"n_slots_in_step\").mean()\n",
    "plt.plot(acc_vs_num_past_slots)\n",
    "plt.show()\n",
    "acc_vs_num_past_slots[\"n_examples\"] = list(df[[\"n_slots_in_step\", \"full_correct\"]].astype(int).groupby(\"n_slots_in_step\").size())"
   ]
  },
  {
   "cell_type": "code",
   "execution_count": null,
   "metadata": {},
   "outputs": [],
   "source": [
    "# acc_vs_num_past_slots = df[[\"n_slots_in_step\", \"full_correct\"]].astype(int).groupby(\"n_slots_in_step\").mean()\n",
    "# acc_vs_num_past_slots[\"n_examples\"] = df[[\"n_slots_in_step\", \"full_correct\"]].astype(int).groupby(\"n_slots_in_step\").size()\n",
    "# plt.plot(df[[\"n_slots_in_step\", \"full_correct\"]])\n",
    "# plt.show()"
   ]
  },
  {
   "cell_type": "code",
   "execution_count": null,
   "metadata": {},
   "outputs": [],
   "source": [
    "acc_vs_num_past_slots = df[[\"n_slots_in_step\", \"full_correct\"]].astype(int).groupby(\"n_slots_in_step\").mean()\n",
    "acc_vs_num_past_slots[\"n_examples\"] = df[[\"n_slots_in_step\", \"full_correct\"]].astype(int).groupby(\"n_slots_in_step\").size()\n",
    "plt.plot(df[[\"n_slots_in_step\", \"full_correct\"]])"
   ]
  },
  {
   "cell_type": "code",
   "execution_count": null,
   "metadata": {},
   "outputs": [],
   "source": [
    "acc_vs_num_past_slots"
   ]
  },
  {
   "cell_type": "code",
   "execution_count": null,
   "metadata": {},
   "outputs": [],
   "source": [
    "acc_vs_num_past_slots = df[[\"n_slots_in_step\", \"full_correct\"]].astype(int).groupby(\"n_slots_in_step\").mean()\n",
    "plt.plot(acc_vs_num_past_slots)\n",
    "plt.show()\n",
    "acc_vs_num_past_slots[\"n_examples\"] = list(df[[\"n_slots_in_step\", \"full_correct\"]].astype(int).groupby(\"n_slots_in_step\").size())"
   ]
  },
  {
   "cell_type": "code",
   "execution_count": null,
   "metadata": {},
   "outputs": [],
   "source": [
    "acc_vs_num_past_slots"
   ]
  },
  {
   "cell_type": "code",
   "execution_count": null,
   "metadata": {},
   "outputs": [],
   "source": [
    "error_change = acc_vs_num_past_slots.values"
   ]
  },
  {
   "cell_type": "code",
   "execution_count": null,
   "metadata": {},
   "outputs": [],
   "source": [
    "acc_vs_num_past_slots.values.reshape(16)"
   ]
  },
  {
   "cell_type": "code",
   "execution_count": null,
   "metadata": {},
   "outputs": [],
   "source": [
    "set(true)"
   ]
  },
  {
   "cell_type": "markdown",
   "metadata": {},
   "source": [
    "## Joint accuracy vs turn"
   ]
  },
  {
   "cell_type": "code",
   "execution_count": null,
   "metadata": {},
   "outputs": [],
   "source": [
    "df[[\"turn\", \"full_correct\"]].head()"
   ]
  },
  {
   "cell_type": "markdown",
   "metadata": {},
   "source": [
    "## Percent slots correct of those present"
   ]
  },
  {
   "cell_type": "code",
   "execution_count": null,
   "metadata": {},
   "outputs": [],
   "source": [
    "def copy_under_condition(df, condition, name):\n",
    "    df.loc[:,name] = condition\n",
    "    df[name] = df[name].mask(condition == True, df.turn).astype(int)\n",
    "    df[name] = df[name].mask(condition == False, None)\n",
    "    return df"
   ]
  },
  {
   "cell_type": "code",
   "execution_count": null,
   "metadata": {},
   "outputs": [],
   "source": [
    "\n",
    "df_correct = df[\"det_full_correct\"].apply(sum).astype(float)\n",
    "df_slots = df[\"det_full_correct\"].apply(len).astype(float)\n",
    "df[\"percent_correct\"] = df_correct/df_slots\n",
    "a = df[[\"turn\", \"percent_correct\"]]\n",
    "partially_correct = a[(a[\"percent_correct\"]>0) & (a[\"percent_correct\"] < 1)]\n",
    "fully_correct = a[a[\"percent_correct\"] == 1]\n",
    "fully_incorrect = a[a[\"percent_correct\"] == 0]\n",
    "correct_empty = a[a[\"percent_correct\"].isna()]\n",
    "\n",
    "# a = copy_under_condition(a, (a[\"percent_correct\"]>0) & (a[\"percent_correct\"] < 1), name=\"partially_correct\")\n",
    "# a = copy_under_condition(a, a[\"percent_correct\"] == 1, name=\"fully_correct\")\n",
    "# a = copy_under_condition(a, a[\"percent_correct\"] == 0, name=\"fully_incorrect\")\n",
    "# a = copy_under_condition(a, a[\"percent_correct\"].isna(), name=\"correct_empty\")\n",
    "\n",
    "# a[\"partially_correct\"] = (a[\"percent_correct\"]>0) & (a[\"percent_correct\"] < 1)\n",
    "# a[\"fully_correct\"] = a[\"percent_correct\"] == 1\n",
    "# a[\"fully_incorrect\"] = a[\"percent_correct\"] == 0\n",
    "# a[\"correct_empty\"] = a[\"percent_correct\"].isna()"
   ]
  },
  {
   "cell_type": "code",
   "execution_count": null,
   "metadata": {},
   "outputs": [],
   "source": []
  },
  {
   "cell_type": "code",
   "execution_count": null,
   "metadata": {},
   "outputs": [],
   "source": []
  },
  {
   "cell_type": "code",
   "execution_count": null,
   "metadata": {},
   "outputs": [],
   "source": [
    "plot_error_histograms(df)"
   ]
  },
  {
   "cell_type": "code",
   "execution_count": null,
   "metadata": {},
   "outputs": [],
   "source": [
    "import numpy as np\n",
    "\n",
    "plt.hist(fully_correct.turn.values.astype(int), alpha=0.2, label='correct', histtype='stepfilled')\n",
    "plt.hist(partially_correct.turn.values.astype(int), alpha=0.3, label='partial', histtype='stepfilled')\n",
    "plt.hist(correct_empty.turn.values.astype(int), alpha=0.7, label='correct empty', histtype='bar', rwidth=2)\n",
    "plt.hist(fully_incorrect.turn.values.astype(int), bins = 4, alpha=0.5, label='fully incorrect', histtype='stepfilled')\n",
    "plt.xticks(list(range(max_turn_len)))\n",
    "#plt.yscale('log')\n",
    "plt.legend(loc='upper right')\n",
    "plt.show()"
   ]
  },
  {
   "cell_type": "code",
   "execution_count": null,
   "metadata": {},
   "outputs": [],
   "source": [
    "percent_correct = df[\"percent_correct\"]\n",
    "n_slots = percent_correct.shape[0]\n",
    "n_empty = (percent_correct).isna().sum()\n",
    "n_fully_correct = percent_correct[percent_correct==1].sum()\n",
    "n_partially_correct = percent_correct[(percent_correct!=1)&(percent_correct!=0)].shape[0]\n",
    "#n_completely_wrong = n_slots-n_correct-n_partially_correct"
   ]
  },
  {
   "cell_type": "code",
   "execution_count": null,
   "metadata": {},
   "outputs": [],
   "source": [
    "n_empty, n_fully_correct, n_partially_correct, n_slots"
   ]
  },
  {
   "cell_type": "code",
   "execution_count": null,
   "metadata": {},
   "outputs": [],
   "source": [
    "n_fully_correct/n_slots # this seems incorrect..."
   ]
  },
  {
   "cell_type": "code",
   "execution_count": null,
   "metadata": {},
   "outputs": [],
   "source": [
    "percent_correct = n_correct/n_slots"
   ]
  }
 ],
 "metadata": {
  "kernelspec": {
   "display_name": "Python 3",
   "language": "python",
   "name": "python3"
  },
  "language_info": {
   "codemirror_mode": {
    "name": "ipython",
    "version": 3
   },
   "file_extension": ".py",
   "mimetype": "text/x-python",
   "name": "python",
   "nbconvert_exporter": "python",
   "pygments_lexer": "ipython3",
   "version": "3.7.4"
  }
 },
 "nbformat": 4,
 "nbformat_minor": 2
}
