{
 "cells": [
  {
   "cell_type": "code",
   "execution_count": 1,
   "metadata": {},
   "outputs": [],
   "source": [
    "import json\n",
    "import importlib  \n",
    "import os\n",
    "import matplotlib.pyplot as plt\n",
    "os.chdir(os.path.join('.', '..'))\n",
    "import utils\n",
    "import analysis_utils\n",
    "import pandas as pd\n",
    "import numpy as np\n",
    "import re\n",
    "analyze_data = importlib.import_module(\"analyze-data\")\n",
    "\n",
    "usr = os.path.expanduser('~')\n",
    "\n",
    "def experiment_results_frame(input_file):\n",
    "    baseline_test_set = analysis_utils.read_json(input_file)\n",
    "    frame = analyze_data.generate_TRADE_turn_frame(baseline_test_set)\n",
    "    return frame\n",
    "\n",
    "def experiment_path(experiment):\n",
    "    return os.path.join(usr,''.join((\"misc_trade/results/\", experiment)))\n",
    "\n",
    "dom_list = [\"hotel\", \"taxi\", \"train\", \"restaurant\", \"attraction\"]\n",
    "\n",
    "# load data from \"dev_dials\"\n",
    "split = \"dev\" \n",
    "df = analyze_data.dials_as_frame(split, dom_list)\n",
    "\n",
    "# load inference results data, in my case stored in \n",
    "# ~/misc_trade/results/baseline21/full/prediction_TRADE_dev.json\n",
    "experiment = \"baseline21/full\"\n",
    "input_file = os.path.join(experiment_path(experiment), ''.join((\"prediction_TRADE_\",split,\".json\")))    \n",
    "df_pred = experiment_results_frame(input_file)"
   ]
  }
 ],
 "metadata": {
  "kernelspec": {
   "display_name": "Python 3",
   "language": "python",
   "name": "python3"
  },
  "language_info": {
   "codemirror_mode": {
    "name": "ipython",
    "version": 3
   },
   "file_extension": ".py",
   "mimetype": "text/x-python",
   "name": "python",
   "nbconvert_exporter": "python",
   "pygments_lexer": "ipython3",
   "version": "3.7.4"
  }
 },
 "nbformat": 4,
 "nbformat_minor": 2
}
